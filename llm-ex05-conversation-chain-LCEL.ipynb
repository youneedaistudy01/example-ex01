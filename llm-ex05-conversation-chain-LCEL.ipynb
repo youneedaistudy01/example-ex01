{
 "cells": [
  {
   "cell_type": "markdown",
   "id": "43450563",
   "metadata": {},
   "source": [
    "# [문제]\n",
    "- ChatPromptTemplate() : 역할 부여\n",
    "- InMemoryChatMessageHistory()\n",
    "- RunnableWithMessageHistory()\n",
    "- chain 구성"
   ]
  },
  {
   "cell_type": "markdown",
   "id": "e0dbca48",
   "metadata": {},
   "source": [
    "## [문제] 기존 String PromptTemplate을 ChatPromptTemplate으로 변경\n",
    "- Chain\n",
    "- prompt template: 직접 작성\n",
    "                   문서를 참고해서, 사용자 질문에 답변"
   ]
  },
  {
   "cell_type": "code",
   "execution_count": 1,
   "id": "449a8ec4",
   "metadata": {},
   "outputs": [],
   "source": [
    "## 모듈(파일, 라이브러리) 읽어오기\n",
    "from langchain_openai import ChatOpenAI\n",
    "from langchain.callbacks.streaming_stdout import StreamingStdOutCallbackHandler\n",
    "from dotenv import load_dotenv"
   ]
  },
  {
   "cell_type": "code",
   "execution_count": 2,
   "id": "a0015992",
   "metadata": {},
   "outputs": [
    {
     "data": {
      "text/plain": [
       "True"
      ]
     },
     "execution_count": 2,
     "metadata": {},
     "output_type": "execute_result"
    }
   ],
   "source": [
    "## 2. 환경변수에 설정된 값 읽어오기\n",
    "load_dotenv()"
   ]
  },
  {
   "cell_type": "code",
   "execution_count": 3,
   "id": "7724a7cf",
   "metadata": {},
   "outputs": [
    {
     "data": {
      "text/plain": [
       "ChatOpenAI(callbacks=[<langchain_core.callbacks.streaming_stdout.StreamingStdOutCallbackHandler object at 0x0000021489838FD0>], client=<openai.resources.chat.completions.completions.Completions object at 0x000002148C1C77C0>, async_client=<openai.resources.chat.completions.completions.AsyncCompletions object at 0x000002148C1F2560>, root_client=<openai.OpenAI object at 0x000002148C108EE0>, root_async_client=<openai.AsyncOpenAI object at 0x000002148C1C7880>, model_name='gpt-4.1-nano', model_kwargs={}, openai_api_key=SecretStr('**********'), streaming=True)"
      ]
     },
     "execution_count": 3,
     "metadata": {},
     "output_type": "execute_result"
    }
   ],
   "source": [
    "## 3. ChatOpenAI 인스턴스 생성\n",
    "llm = ChatOpenAI(\n",
    "    model='gpt-4.1-nano',\n",
    "    streaming=True,\n",
    "    callbacks=[StreamingStdOutCallbackHandler()],\n",
    ")\n",
    "\n",
    "llm"
   ]
  },
  {
   "cell_type": "code",
   "execution_count": 4,
   "id": "fce704ea",
   "metadata": {},
   "outputs": [
    {
     "name": "stdout",
     "output_type": "stream",
     "text": [
      "\n",
      "남녀고용평등과 일ㆍ가정 양립 지원에 관한 법률 ( 약칭: 남녀고용평등법 )\n",
      "[시행 20\n"
     ]
    }
   ],
   "source": [
    "## 4. 파일 읽기\n",
    "file_name = '남녀고용평등과 일ㆍ가정 양립 지원에 관한 법률(법률)(제20521호)(20250223).txt'\n",
    "with open(file_name, 'r', encoding='utf-8') as file:\n",
    "    law = file.read()\n",
    "    print(law[:50])"
   ]
  },
  {
   "cell_type": "code",
   "execution_count": 6,
   "id": "7550d258",
   "metadata": {},
   "outputs": [
    {
     "data": {
      "text/plain": [
       "ChatPromptTemplate(input_variables=['law', 'query'], optional_variables=['chat_history'], input_types={'chat_history': list[typing.Annotated[typing.Union[typing.Annotated[langchain_core.messages.ai.AIMessage, Tag(tag='ai')], typing.Annotated[langchain_core.messages.human.HumanMessage, Tag(tag='human')], typing.Annotated[langchain_core.messages.chat.ChatMessage, Tag(tag='chat')], typing.Annotated[langchain_core.messages.system.SystemMessage, Tag(tag='system')], typing.Annotated[langchain_core.messages.function.FunctionMessage, Tag(tag='function')], typing.Annotated[langchain_core.messages.tool.ToolMessage, Tag(tag='tool')], typing.Annotated[langchain_core.messages.ai.AIMessageChunk, Tag(tag='AIMessageChunk')], typing.Annotated[langchain_core.messages.human.HumanMessageChunk, Tag(tag='HumanMessageChunk')], typing.Annotated[langchain_core.messages.chat.ChatMessageChunk, Tag(tag='ChatMessageChunk')], typing.Annotated[langchain_core.messages.system.SystemMessageChunk, Tag(tag='SystemMessageChunk')], typing.Annotated[langchain_core.messages.function.FunctionMessageChunk, Tag(tag='FunctionMessageChunk')], typing.Annotated[langchain_core.messages.tool.ToolMessageChunk, Tag(tag='ToolMessageChunk')]], FieldInfo(annotation=NoneType, required=True, discriminator=Discriminator(discriminator=<function _get_type at 0x000002148B8B7AC0>, custom_error_type=None, custom_error_message=None, custom_error_context=None))]]}, partial_variables={'chat_history': []}, messages=[SystemMessagePromptTemplate(prompt=PromptTemplate(input_variables=['law'], input_types={}, partial_variables={}, template='당신은 육아휴직 법률 전문가입니다.\\n     아래 문서를 참고하여, 사용자 질문에 성실하게 답변합니다.\\n     답변은 문서 내용을 기반으로 하되, 해당 조항도 표시합니다.\\n     - 문서: {law}'), additional_kwargs={}), MessagesPlaceholder(variable_name='chat_history', optional=True), HumanMessagePromptTemplate(prompt=PromptTemplate(input_variables=['query'], input_types={}, partial_variables={}, template='{query}'), additional_kwargs={})])"
      ]
     },
     "execution_count": 6,
     "metadata": {},
     "output_type": "execute_result"
    }
   ],
   "source": [
    "from langchain_core.prompts import ChatPromptTemplate\n",
    "\n",
    "template = [\n",
    "    ('system', '''당신은 육아휴직 법률 전문가입니다.\n",
    "     아래 문서를 참고하여, 사용자 질문에 성실하게 답변합니다.\n",
    "     답변은 문서 내용을 기반으로 하되, 해당 조항도 표시합니다.\n",
    "     - 문서: {law}'''),\n",
    "     ('placeholder', '{chat_history}'),\n",
    "    ('user', '{query}')\n",
    "]\n",
    "\n",
    "prompt = ChatPromptTemplate.from_messages(template)\n",
    "prompt"
   ]
  },
  {
   "cell_type": "code",
   "execution_count": 7,
   "id": "a081c46c",
   "metadata": {},
   "outputs": [
    {
     "data": {
      "text/plain": [
       "'육아휴직 기간은 어떻게 되나요?'"
      ]
     },
     "execution_count": 7,
     "metadata": {},
     "output_type": "execute_result"
    }
   ],
   "source": [
    "query = input('육아휴직과 관련된 질문하세요 >> ')\n",
    "query"
   ]
  },
  {
   "cell_type": "code",
   "execution_count": 8,
   "id": "d8e6fbe0",
   "metadata": {},
   "outputs": [],
   "source": [
    "chain = prompt | llm"
   ]
  },
  {
   "cell_type": "code",
   "execution_count": 12,
   "id": "189dc38d",
   "metadata": {},
   "outputs": [],
   "source": [
    "from langchain_core.runnables.history import RunnableWithMessageHistory\n",
    "from langchain_core.chat_history import InMemoryChatMessageHistory\n",
    "\n",
    "history = InMemoryChatMessageHistory()\n",
    "\n",
    "def get_history():\n",
    "    return history\n",
    "\n",
    "with_message_history = RunnableWithMessageHistory(\n",
    "    chain,\n",
    "    get_history,\n",
    "    history_messages_key='chat_history',\n",
    "    input_messages_key='query',\n",
    ")"
   ]
  },
  {
   "cell_type": "code",
   "execution_count": 13,
   "id": "737db870",
   "metadata": {},
   "outputs": [
    {
     "name": "stdout",
     "output_type": "stream",
     "text": [
      "육아휴직은 임신 중인 여성 근로자가 모성을 보호하거나 근로자가 만 8세 이하 또는 초등학교 2학년 이하의 자녀를 양육하기 위하여 신청하는 휴직을 말하며, 기간은 원칙적으로 1년 이내입니다. (제19조(육아휴직) ②항)\n",
      "\n",
      "다만, 다음과 같은 경우에는 6개월 이내에서 추가로 육아휴직을 사용할 수 있습니다:\n",
      "- 같은 자녀를 대상으로 부모가 모두 육아휴직을 각각 3개월 이상 사용한 경우\n",
      "- 「한부모가족지원법」 제4조제1호의 부 또는 모\n",
      "- 고용노동부령으로 정하는 장애아동의 부 또는 모 (제19조(육아휴직) ②항)\n",
      "\n",
      "즉, 일반적으로 육아휴직은 최대 1년까지 가능하며, 특수한 사정이 있는 경우에는 최대 6개월(추가 사용 포함 시 1년)까지 사용할 수 있습니다."
     ]
    },
    {
     "data": {
      "text/plain": [
       "AIMessage(content='육아휴직은 임신 중인 여성 근로자가 모성을 보호하거나 근로자가 만 8세 이하 또는 초등학교 2학년 이하의 자녀를 양육하기 위하여 신청하는 휴직을 말하며, 기간은 원칙적으로 1년 이내입니다. (제19조(육아휴직) ②항)\\n\\n다만, 다음과 같은 경우에는 6개월 이내에서 추가로 육아휴직을 사용할 수 있습니다:\\n- 같은 자녀를 대상으로 부모가 모두 육아휴직을 각각 3개월 이상 사용한 경우\\n- 「한부모가족지원법」 제4조제1호의 부 또는 모\\n- 고용노동부령으로 정하는 장애아동의 부 또는 모 (제19조(육아휴직) ②항)\\n\\n즉, 일반적으로 육아휴직은 최대 1년까지 가능하며, 특수한 사정이 있는 경우에는 최대 6개월(추가 사용 포함 시 1년)까지 사용할 수 있습니다.', additional_kwargs={}, response_metadata={'finish_reason': 'stop', 'model_name': 'gpt-4.1-nano-2025-04-14', 'system_fingerprint': 'fp_eede8f0d45'}, id='run-9224afce-6bd8-4689-b5c0-024f1c974fda-0')"
      ]
     },
     "execution_count": 13,
     "metadata": {},
     "output_type": "execute_result"
    }
   ],
   "source": [
    "with_message_history.invoke({\n",
    "    'law': law,\n",
    "    'query': query\n",
    "})"
   ]
  },
  {
   "cell_type": "code",
   "execution_count": 14,
   "id": "4ed79431",
   "metadata": {},
   "outputs": [
    {
     "data": {
      "text/plain": [
       "InMemoryChatMessageHistory(messages=[HumanMessage(content='육아휴직 기간은 어떻게 되나요?', additional_kwargs={}, response_metadata={}), AIMessage(content='육아휴직은 임신 중인 여성 근로자가 모성을 보호하거나 근로자가 만 8세 이하 또는 초등학교 2학년 이하의 자녀를 양육하기 위하여 신청하는 휴직을 말하며, 기간은 원칙적으로 1년 이내입니다. (제19조(육아휴직) ②항)\\n\\n다만, 다음과 같은 경우에는 6개월 이내에서 추가로 육아휴직을 사용할 수 있습니다:\\n- 같은 자녀를 대상으로 부모가 모두 육아휴직을 각각 3개월 이상 사용한 경우\\n- 「한부모가족지원법」 제4조제1호의 부 또는 모\\n- 고용노동부령으로 정하는 장애아동의 부 또는 모 (제19조(육아휴직) ②항)\\n\\n즉, 일반적으로 육아휴직은 최대 1년까지 가능하며, 특수한 사정이 있는 경우에는 최대 6개월(추가 사용 포함 시 1년)까지 사용할 수 있습니다.', additional_kwargs={}, response_metadata={'finish_reason': 'stop', 'model_name': 'gpt-4.1-nano-2025-04-14', 'system_fingerprint': 'fp_eede8f0d45'}, id='run-9224afce-6bd8-4689-b5c0-024f1c974fda-0')])"
      ]
     },
     "execution_count": 14,
     "metadata": {},
     "output_type": "execute_result"
    }
   ],
   "source": [
    "history"
   ]
  },
  {
   "cell_type": "code",
   "execution_count": 2,
   "id": "d2c2aa6c",
   "metadata": {},
   "outputs": [
    {
     "name": "stdout",
     "output_type": "stream",
     "text": [
      "변경!!!\n"
     ]
    }
   ],
   "source": [
    "print('변경!!!')"
   ]
  }
 ],
 "metadata": {
  "kernelspec": {
   "display_name": "project",
   "language": "python",
   "name": "python3"
  },
  "language_info": {
   "codemirror_mode": {
    "name": "ipython",
    "version": 3
   },
   "file_extension": ".py",
   "mimetype": "text/x-python",
   "name": "python",
   "nbconvert_exporter": "python",
   "pygments_lexer": "ipython3",
   "version": "3.10.12"
  }
 },
 "nbformat": 4,
 "nbformat_minor": 5
}
