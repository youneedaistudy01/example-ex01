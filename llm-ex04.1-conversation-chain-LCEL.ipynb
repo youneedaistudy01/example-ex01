{
 "cells": [
  {
   "cell_type": "markdown",
   "id": "6c02435e",
   "metadata": {},
   "source": [
    "# [문제]\n",
    "- ChatPromptTemplate() : 역할 부여\n",
    "- InMemoryChatMessageHistory()\n",
    "- RunnableWithMessageHistory()\n",
    "- chain 구성"
   ]
  },
  {
   "cell_type": "markdown",
   "id": "686e1760",
   "metadata": {},
   "source": [
    "## [문제] PromptTemplate 내 변수 설정: Chain\n",
    "\n",
    "template = '''\n",
    "당신은 이력서 작성 컨설턴트입니다.\n",
    "아래 정보를 바탕으로 지원자 입장에서 2000자 이내로 이력서를 작성합니다.\n",
    "문장은 자연스럽고 매끄럽게 작성합니다.\n",
    "\n",
    "이름: {name}\n",
    "경력: {experience}\n",
    "기술: {skills}\n",
    "'''\n"
   ]
  },
  {
   "cell_type": "code",
   "execution_count": 1,
   "id": "e002d1c7",
   "metadata": {},
   "outputs": [],
   "source": [
    "from langchain_openai import ChatOpenAI\n",
    "from langchain.callbacks.streaming_stdout import StreamingStdOutCallbackHandler\n",
    "from dotenv import load_dotenv"
   ]
  },
  {
   "cell_type": "code",
   "execution_count": 2,
   "id": "6ebc1d9f",
   "metadata": {},
   "outputs": [
    {
     "data": {
      "text/plain": [
       "True"
      ]
     },
     "execution_count": 2,
     "metadata": {},
     "output_type": "execute_result"
    }
   ],
   "source": [
    "load_dotenv()"
   ]
  },
  {
   "cell_type": "code",
   "execution_count": 3,
   "id": "ea8f05cc",
   "metadata": {},
   "outputs": [
    {
     "data": {
      "text/plain": [
       "ChatOpenAI(callbacks=[<langchain_core.callbacks.streaming_stdout.StreamingStdOutCallbackHandler object at 0x000001C1A3EAA5C0>], client=<openai.resources.chat.completions.completions.Completions object at 0x000001C1A3F6B880>, async_client=<openai.resources.chat.completions.completions.AsyncCompletions object at 0x000001C1A3F9A620>, root_client=<openai.OpenAI object at 0x000001C1A3EA8F10>, root_async_client=<openai.AsyncOpenAI object at 0x000001C1A3F6B940>, model_name='gpt-4.1-nano', model_kwargs={}, openai_api_key=SecretStr('**********'), streaming=True, max_tokens=150)"
      ]
     },
     "execution_count": 3,
     "metadata": {},
     "output_type": "execute_result"
    }
   ],
   "source": [
    "llm = ChatOpenAI(\n",
    "    model='gpt-4.1-nano',\n",
    "    streaming=True,\n",
    "    callbacks=[StreamingStdOutCallbackHandler()],\n",
    "    max_completion_tokens=150,\n",
    ")\n",
    "\n",
    "llm"
   ]
  },
  {
   "cell_type": "code",
   "execution_count": null,
   "id": "82862ae1",
   "metadata": {},
   "outputs": [],
   "source": [
    "template = '''\n",
    "당신은 이력서 작성 컨설턴트입니다.\n",
    "아래 정보를 바탕으로 지원자 입장에서 2000자 이내로 이력서를 작성합니다.\n",
    "문장은 자연스럽고 매끄럽게 작성합니다.\n",
    "\n",
    "이름: {name}\n",
    "경력: {experience}\n",
    "기술: {skills}\n",
    "'''"
   ]
  },
  {
   "cell_type": "code",
   "execution_count": 7,
   "id": "52b53987",
   "metadata": {},
   "outputs": [
    {
     "data": {
      "text/plain": [
       "ChatPromptTemplate(input_variables=['experience', 'name', 'skills'], input_types={}, partial_variables={}, messages=[SystemMessagePromptTemplate(prompt=PromptTemplate(input_variables=[], input_types={}, partial_variables={}, template='당신은 이력서 작성 컨설턴트입니다.\\n아래 정보를 바탕으로 지원자 입장에서 2000자 이내로 이력서를 작성합니다.\\n문장은 자연스럽고 매끄럽게 작성합니다.'), additional_kwargs={}), HumanMessagePromptTemplate(prompt=PromptTemplate(input_variables=['experience', 'name', 'skills'], input_types={}, partial_variables={}, template='이름: {name}\\n경력: {experience}\\n기술: {skills}'), additional_kwargs={})])"
      ]
     },
     "execution_count": 7,
     "metadata": {},
     "output_type": "execute_result"
    }
   ],
   "source": [
    "from langchain_core.prompts import ChatPromptTemplate\n",
    "\n",
    "messages = [\n",
    "    ('system', '''당신은 이력서 작성 컨설턴트입니다.\n",
    "아래 정보를 바탕으로 지원자 입장에서 2000자 이내로 이력서를 작성합니다.\n",
    "문장은 자연스럽고 매끄럽게 작성합니다.'''),\n",
    "\t('user', '이름: {name}\\n경력: {experience}\\n기술: {skills}')\n",
    "]\n",
    "\n",
    "prompt = ChatPromptTemplate.from_messages(messages=messages)\n",
    "prompt"
   ]
  },
  {
   "cell_type": "code",
   "execution_count": 8,
   "id": "0a28c96a",
   "metadata": {},
   "outputs": [
    {
     "data": {
      "text/plain": [
       "ChatPromptTemplate(input_variables=['experience', 'name', 'skills'], input_types={}, partial_variables={}, messages=[SystemMessagePromptTemplate(prompt=PromptTemplate(input_variables=[], input_types={}, partial_variables={}, template='당신은 이력서 작성 컨설턴트입니다.\\n아래 정보를 바탕으로 지원자 입장에서 2000자 이내로 이력서를 작성합니다.\\n문장은 자연스럽고 매끄럽게 작성합니다.'), additional_kwargs={}), HumanMessagePromptTemplate(prompt=PromptTemplate(input_variables=['experience', 'name', 'skills'], input_types={}, partial_variables={}, template='이름: {name}\\n경력: {experience}\\n기술: {skills}'), additional_kwargs={})])\n",
       "| ChatOpenAI(callbacks=[<langchain_core.callbacks.streaming_stdout.StreamingStdOutCallbackHandler object at 0x000001C1A3EAA5C0>], client=<openai.resources.chat.completions.completions.Completions object at 0x000001C1A3F6B880>, async_client=<openai.resources.chat.completions.completions.AsyncCompletions object at 0x000001C1A3F9A620>, root_client=<openai.OpenAI object at 0x000001C1A3EA8F10>, root_async_client=<openai.AsyncOpenAI object at 0x000001C1A3F6B940>, model_name='gpt-4.1-nano', model_kwargs={}, openai_api_key=SecretStr('**********'), streaming=True, max_tokens=150)"
      ]
     },
     "execution_count": 8,
     "metadata": {},
     "output_type": "execute_result"
    }
   ],
   "source": [
    "chain = prompt | llm\n",
    "chain"
   ]
  },
  {
   "cell_type": "code",
   "execution_count": 9,
   "id": "a7a085b3",
   "metadata": {},
   "outputs": [
    {
     "name": "stdout",
     "output_type": "stream",
     "text": [
      "박보검  \n",
      "연락처: [전화번호] | 이메일: [이메일 주소] | LinkedIn: [링크드인 프로필]  \n",
      "\n",
      "---\n",
      "\n",
      "***개인 요약***  \n",
      "열정과 성실함을 바탕으로 웹 개발 분야에 도전하는 신입 개발자입니다. Python과 HTML, CSS를 활용한 웹 애플리케이션 개발 경험이 있으며, 대용량 언어 모델(LLM) 관련 기술에도 관심을 가지고 학습을 이어가고 있습니다. 새로운 기술을 빠르게 습득하며, 창의적이고 효율적인 코딩으로 사용자 친화적인 웹 솔루션을 구현하는 것을 목표로 하고 있습니다.\n",
      "\n",
      "---\n",
      "\n",
      "***학력***  \n"
     ]
    }
   ],
   "source": [
    "ai_message = chain.invoke({\n",
    "    'name': '박보검',\n",
    "    'experience': '웹 개발 신입',\n",
    "    'skills': 'Python, HTML, CSS, LLM'\n",
    "})"
   ]
  }
 ],
 "metadata": {
  "kernelspec": {
   "display_name": "project",
   "language": "python",
   "name": "python3"
  },
  "language_info": {
   "codemirror_mode": {
    "name": "ipython",
    "version": 3
   },
   "file_extension": ".py",
   "mimetype": "text/x-python",
   "name": "python",
   "nbconvert_exporter": "python",
   "pygments_lexer": "ipython3",
   "version": "3.10.12"
  }
 },
 "nbformat": 4,
 "nbformat_minor": 5
}
