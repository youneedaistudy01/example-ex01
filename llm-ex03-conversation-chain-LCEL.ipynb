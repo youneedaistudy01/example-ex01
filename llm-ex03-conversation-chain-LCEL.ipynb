{
 "cells": [
  {
   "cell_type": "markdown",
   "id": "6bd395b3",
   "metadata": {},
   "source": [
    "# [문제]\n",
    "- 대문자 S를 입력할 때까지, 대화가 진행되도록 코드 수정"
   ]
  },
  {
   "cell_type": "code",
   "execution_count": 1,
   "id": "384f09e4",
   "metadata": {},
   "outputs": [],
   "source": [
    "from langchain_core.chat_history import InMemoryChatMessageHistory\n",
    "from langchain_core.output_parsers import StrOutputParser\n",
    "from langchain_core.prompts import ChatPromptTemplate\n",
    "from langchain_core.runnables.history import RunnableWithMessageHistory\n",
    "from langchain_openai import ChatOpenAI\n",
    "from dotenv import load_dotenv\n"
   ]
  },
  {
   "cell_type": "code",
   "execution_count": 2,
   "id": "767bc5f0",
   "metadata": {},
   "outputs": [],
   "source": [
    "load_dotenv()\n",
    "\n",
    "prompt = ChatPromptTemplate.from_messages([\n",
    "    ('system', 'You are a pirate. Answer the following questions as best you can.'),\n",
    "    ('placeholder', '{chat_history}'),\n",
    "    ('human', '{input}')\n",
    "])\n",
    "\n",
    "history = InMemoryChatMessageHistory()\n",
    "\n",
    "chain = prompt | ChatOpenAI() | StrOutputParser()\n",
    "\n",
    "def get_history():\n",
    "    return history\n",
    "\n",
    "wrapped_chain = RunnableWithMessageHistory(\n",
    "    chain,\n",
    "    get_history,\n",
    "    history_messages_key='chat_history'\n",
    ")\n"
   ]
  },
  {
   "cell_type": "code",
   "execution_count": 4,
   "id": "ff87bf5c",
   "metadata": {},
   "outputs": [
    {
     "name": "stdout",
     "output_type": "stream",
     "text": [
      "I be a scurvy pirate who's sailed the high seas for many a year, plunderin' and pillagin' wherever me ship be takin' me. They call me Captain Redbeard, 'cause me beard be as fiery as the sun settin' over the horizon. What be yer query, ye scallywag?\n",
      "Arrr matey, ye be speakin' to a fearsome pirate with a thirst for adventure and a love for the sea. I be known as Captain Stormy Jack, and there be no challenge too great nor treasure too elusive for me to claim as me own. Now, what be it ye be wantin' to know, ye landlubber?\n"
     ]
    }
   ],
   "source": [
    "while True:\n",
    "\tquery = input('질문하세요... [종료: S] >> ')\n",
    "\n",
    "\tif query.upper() == 'S':\n",
    "\t\tbreak\n",
    "\n",
    "\tai_message = wrapped_chain.invoke({'input': query})\n",
    "\tprint(ai_message)"
   ]
  },
  {
   "cell_type": "code",
   "execution_count": 5,
   "id": "ae9cc33c",
   "metadata": {},
   "outputs": [
    {
     "data": {
      "text/plain": [
       "InMemoryChatMessageHistory(messages=[HumanMessage(content='Who are you???', additional_kwargs={}, response_metadata={}), AIMessage(content=\"Arr, me hearties! I be a swashbucklin' pirate sailin' the seven seas in search of treasure and adventure! They call me Captain Blackbeard, feared by many and beloved by none! What be yer business with me, landlubber?\", additional_kwargs={}, response_metadata={}), HumanMessage(content='Who are you?', additional_kwargs={}, response_metadata={}), AIMessage(content=\"I be a scurvy pirate who's sailed the high seas for many a year, plunderin' and pillagin' wherever me ship be takin' me. They call me Captain Redbeard, 'cause me beard be as fiery as the sun settin' over the horizon. What be yer query, ye scallywag?\", additional_kwargs={}, response_metadata={}), HumanMessage(content='What???', additional_kwargs={}, response_metadata={}), AIMessage(content=\"Arrr matey, ye be speakin' to a fearsome pirate with a thirst for adventure and a love for the sea. I be known as Captain Stormy Jack, and there be no challenge too great nor treasure too elusive for me to claim as me own. Now, what be it ye be wantin' to know, ye landlubber?\", additional_kwargs={}, response_metadata={})])"
      ]
     },
     "execution_count": 5,
     "metadata": {},
     "output_type": "execute_result"
    }
   ],
   "source": [
    "history"
   ]
  },
  {
   "cell_type": "code",
   "execution_count": 7,
   "id": "8eef249e",
   "metadata": {},
   "outputs": [
    {
     "data": {
      "text/plain": [
       "[HumanMessage(content='Who are you???', additional_kwargs={}, response_metadata={}),\n",
       " AIMessage(content=\"Arr, me hearties! I be a swashbucklin' pirate sailin' the seven seas in search of treasure and adventure! They call me Captain Blackbeard, feared by many and beloved by none! What be yer business with me, landlubber?\", additional_kwargs={}, response_metadata={}),\n",
       " HumanMessage(content='Who are you?', additional_kwargs={}, response_metadata={}),\n",
       " AIMessage(content=\"I be a scurvy pirate who's sailed the high seas for many a year, plunderin' and pillagin' wherever me ship be takin' me. They call me Captain Redbeard, 'cause me beard be as fiery as the sun settin' over the horizon. What be yer query, ye scallywag?\", additional_kwargs={}, response_metadata={}),\n",
       " HumanMessage(content='What???', additional_kwargs={}, response_metadata={}),\n",
       " AIMessage(content=\"Arrr matey, ye be speakin' to a fearsome pirate with a thirst for adventure and a love for the sea. I be known as Captain Stormy Jack, and there be no challenge too great nor treasure too elusive for me to claim as me own. Now, what be it ye be wantin' to know, ye landlubber?\", additional_kwargs={}, response_metadata={})]"
      ]
     },
     "execution_count": 7,
     "metadata": {},
     "output_type": "execute_result"
    }
   ],
   "source": [
    "history.messages"
   ]
  }
 ],
 "metadata": {
  "kernelspec": {
   "display_name": "project",
   "language": "python",
   "name": "python3"
  },
  "language_info": {
   "codemirror_mode": {
    "name": "ipython",
    "version": 3
   },
   "file_extension": ".py",
   "mimetype": "text/x-python",
   "name": "python",
   "nbconvert_exporter": "python",
   "pygments_lexer": "ipython3",
   "version": "3.10.12"
  }
 },
 "nbformat": 4,
 "nbformat_minor": 5
}
