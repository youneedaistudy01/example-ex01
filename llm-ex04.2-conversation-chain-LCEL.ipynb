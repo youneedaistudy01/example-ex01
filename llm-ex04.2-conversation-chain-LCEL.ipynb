{
 "cells": [
  {
   "cell_type": "markdown",
   "id": "6c02435e",
   "metadata": {},
   "source": [
    "# [문제]\n",
    "- ChatPromptTemplate() : 역할 부여\n",
    "- InMemoryChatMessageHistory()\n",
    "- RunnableWithMessageHistory()\n",
    "- chain 구성"
   ]
  },
  {
   "cell_type": "markdown",
   "id": "686e1760",
   "metadata": {},
   "source": [
    "## [문제] PromptTemplate 내 변수 설정: Chain\n",
    "\n",
    "template = '''\n",
    "당신은 이력서 작성 컨설턴트입니다.\n",
    "아래 정보를 바탕으로 지원자 입장에서 2000자 이내로 이력서를 작성합니다.\n",
    "문장은 자연스럽고 매끄럽게 작성합니다.\n",
    "\n",
    "이름: {name}\n",
    "경력: {experience}\n",
    "기술: {skills}\n",
    "'''\n"
   ]
  },
  {
   "cell_type": "code",
   "execution_count": 1,
   "id": "e002d1c7",
   "metadata": {},
   "outputs": [],
   "source": [
    "from langchain_openai import ChatOpenAI\n",
    "from langchain.callbacks.streaming_stdout import StreamingStdOutCallbackHandler\n",
    "from langchain_core.prompts import ChatPromptTemplate\n",
    "from dotenv import load_dotenv\n",
    "\n",
    "\n",
    "load_dotenv()\n",
    "\n",
    "llm = ChatOpenAI(\n",
    "    model='gpt-4.1-nano',\n",
    "    streaming=True,\n",
    "    callbacks=[StreamingStdOutCallbackHandler()],\n",
    "    max_completion_tokens=150,\n",
    ")\n"
   ]
  },
  {
   "cell_type": "code",
   "execution_count": 14,
   "id": "32eaf88a",
   "metadata": {},
   "outputs": [
    {
     "data": {
      "text/plain": [
       "RunnableWithMessageHistory(bound=RunnableBinding(bound=RunnableBinding(bound=RunnableAssign(mapper={\n",
       "  chat_history: RunnableBinding(bound=RunnableLambda(_enter_history), kwargs={}, config={'run_name': 'load_history'}, config_factories=[])\n",
       "}), kwargs={}, config={'run_name': 'insert_history'}, config_factories=[])\n",
       "| RunnableBinding(bound=RunnableLambda(_call_runnable_sync), kwargs={}, config={'run_name': 'check_sync_or_async'}, config_factories=[]), kwargs={}, config={'run_name': 'RunnableWithMessageHistory'}, config_factories=[]), kwargs={}, config={}, config_factories=[], get_session_history=<function get_history at 0x00000191E903A200>, history_messages_key='chat_history', history_factory_config=[ConfigurableFieldSpec(id='session_id', annotation=<class 'str'>, name='Session ID', description='Unique identifier for a session.', default='', is_shared=True, dependencies=None)])"
      ]
     },
     "execution_count": 14,
     "metadata": {},
     "output_type": "execute_result"
    }
   ],
   "source": [
    "messages = [\n",
    "    ('system', '''당신은 이력서 작성 컨설턴트입니다.\n",
    "아래 정보를 바탕으로 지원자 입장에서 2000자 이내로 이력서를 작성합니다.\n",
    "문장은 자연스럽고 매끄럽게 작성합니다.'''),\n",
    "\t('placeholder', '{chat_history}'),\n",
    "\t# ('user', '이름: {name}\\n경력: {experience}\\n기술: {skills}')\n",
    "\t('user', '{input}')\n",
    "]\n",
    "\n",
    "prompt = ChatPromptTemplate.from_messages(messages=messages)\n",
    "\n",
    "\n",
    "from langchain_core.chat_history import InMemoryChatMessageHistory\n",
    "\n",
    "history = InMemoryChatMessageHistory()\n",
    "\n",
    "def get_history():\n",
    "    return history\n",
    "\n",
    "from langchain_core.runnables.history import RunnableWithMessageHistory\n",
    "\n",
    "chain = prompt | llm\n",
    "\n",
    "with_message_history = RunnableWithMessageHistory(\n",
    "    chain,\n",
    "    get_history,\n",
    "    history_messages_key='chat_history'\n",
    ")\n",
    "\n",
    "with_message_history"
   ]
  },
  {
   "cell_type": "code",
   "execution_count": 16,
   "id": "fbdad50c",
   "metadata": {},
   "outputs": [
    {
     "name": "stdout",
     "output_type": "stream",
     "text": [
      "박보검 이력서\n",
      "\n",
      "개인 정보\n",
      "이름: 박보검\n",
      "\n",
      "경력 요약\n",
      "신입 웹 개발자로서 다양한 프로젝트와 학습 경험을 통해 웹 개발의 기본기를 갖추었으며, Python, HTML, CSS 등 핵심 기술에 대한 이해도를 바탕으로 실무에 빠르게 적응할 수 있는 역량을 보유하고 있습니다. 최신 AI 기술인 LLM(대형 언어 모델)에 대한 관심과 학습을 지속하며, 혁신적인 서비스 개발에 기여하고자 합니다.\n",
      "\n",
      "전문 기술\n",
      "- 프로그래밍 언어: Python\n",
      "- 웹 개발: HTML, CSS\n",
      "- 인공지능/머신러닝: 대형 언어"
     ]
    }
   ],
   "source": [
    "'''\n",
    "'name': '박보검',\n",
    "'experience': '웹 개발 신입',\n",
    "'skills': 'Python, HTML, CSS, LLM'\n",
    "'''\n",
    "\n",
    "ai_message = with_message_history.invoke({\n",
    "    'input': '''name: 박보검\\nexperience: 웹 개발 신입\\nskills: Python, HTML, CSS, LLM''' \n",
    "})"
   ]
  },
  {
   "cell_type": "code",
   "execution_count": 17,
   "id": "b08d4471",
   "metadata": {},
   "outputs": [
    {
     "data": {
      "text/plain": [
       "InMemoryChatMessageHistory(messages=[HumanMessage(content='name: 박보검\\nexperience: 웹 개발 신입\\nskills: Python, HTML, CSS, LLM', additional_kwargs={}, response_metadata={}), AIMessage(content='박보검 이력서\\n\\n개인 정보\\n이름: 박보검\\n\\n경력 요약\\n신입 웹 개발자로서 다양한 프로젝트와 학습 경험을 통해 웹 개발의 기본기를 갖추었으며, Python, HTML, CSS 등 핵심 기술에 대한 이해도를 바탕으로 실무에 빠르게 적응할 수 있는 역량을 보유하고 있습니다. 최신 AI 기술인 LLM(대형 언어 모델)에 대한 관심과 학습을 지속하며, 혁신적인 서비스 개발에 기여하고자 합니다.\\n\\n전문 기술\\n- 프로그래밍 언어: Python\\n- 웹 개발: HTML, CSS\\n- 인공지능/머신러닝: 대형 언어', additional_kwargs={}, response_metadata={'finish_reason': 'length', 'model_name': 'gpt-4.1-nano-2025-04-14', 'system_fingerprint': 'fp_eede8f0d45'}, id='run-6228b613-73bd-40af-9868-7b818b59d01b-0')])"
      ]
     },
     "execution_count": 17,
     "metadata": {},
     "output_type": "execute_result"
    }
   ],
   "source": [
    "history"
   ]
  }
 ],
 "metadata": {
  "kernelspec": {
   "display_name": "project",
   "language": "python",
   "name": "python3"
  },
  "language_info": {
   "codemirror_mode": {
    "name": "ipython",
    "version": 3
   },
   "file_extension": ".py",
   "mimetype": "text/x-python",
   "name": "python",
   "nbconvert_exporter": "python",
   "pygments_lexer": "ipython3",
   "version": "3.10.12"
  }
 },
 "nbformat": 4,
 "nbformat_minor": 5
}
