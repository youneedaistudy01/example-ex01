{
 "cells": [
  {
   "cell_type": "markdown",
   "id": "6c02435e",
   "metadata": {},
   "source": [
    "# [문제]\n",
    "- ChatPromptTemplate() : 역할 부여\n",
    "- InMemoryChatMessageHistory()\n",
    "- RunnableWithMessageHistory()\n",
    "- chain 구성"
   ]
  },
  {
   "cell_type": "markdown",
   "id": "686e1760",
   "metadata": {},
   "source": [
    "## [문제] PromptTemplate 내 변수 설정: Chain\n",
    "\n",
    "template = '''\n",
    "당신은 이력서 작성 컨설턴트입니다.\n",
    "아래 정보를 바탕으로 지원자 입장에서 2000자 이내로 이력서를 작성합니다.\n",
    "문장은 자연스럽고 매끄럽게 작성합니다.\n",
    "\n",
    "이름: {name}\n",
    "경력: {experience}\n",
    "기술: {skills}\n",
    "'''"
   ]
  },
  {
   "cell_type": "code",
   "execution_count": null,
   "id": "e002d1c7",
   "metadata": {},
   "outputs": [],
   "source": [
    "from langchain_core.runnables.history import RunnableWithMessageHistory\n",
    "from langchain_core.prompts import ChatPromptTemplate\n",
    "from langchain_core.chat_history import InMemoryChatMessageHistory\n",
    "from langchain_openai import ChatOpenAI\n",
    "from langchain.callbacks.streaming_stdout import StreamingStdOutCallbackHandler\n",
    "from dotenv import load_dotenv\n",
    "\n",
    "\n",
    "load_dotenv()\n",
    "\n",
    "llm = ChatOpenAI(\n",
    "    model='gpt-4.1-nano',\n",
    "    streaming=True,\n",
    "    callbacks=[StreamingStdOutCallbackHandler()],\n",
    "    max_completion_tokens=150,\n",
    ")\n",
    "\n",
    "messages = [\n",
    "    ('system', '''당신은 이력서 작성 컨설턴트입니다.\n",
    "아래 정보를 바탕으로 지원자 입장에서 2000자 이내로 이력서를 작성합니다.\n",
    "문장은 자연스럽고 매끄럽게 작성합니다.'''),\n",
    "\t('placeholder', '{chat_history}'),\n",
    "\t# ('user', '이름: {name}\\n경력: {experience}\\n기술: {skills}')\n",
    "\t('user', '{query}')\n",
    "]\n",
    "\n",
    "prompt = ChatPromptTemplate.from_messages(messages=messages)"
   ]
  },
  {
   "cell_type": "code",
   "execution_count": 4,
   "id": "1ffb29b0",
   "metadata": {},
   "outputs": [
    {
     "name": "stdout",
     "output_type": "stream",
     "text": [
      "박보검  \n",
      "연락처: [전화번호] | 이메일: [이메일 주소] | 주소: [주소]  \n",
      "\n",
      "목표  \n",
      "열정과 성실함을 바탕으로 웹 개발 분야에서 성장하고자 하는 신입 개발자입니다. Python, HTML, CSS, 그리고 최신 인공지능 기술인 LLM(대형 언어 모델)에 대한 이해를 바탕으로 기업의 디지털 전환과 서비스 개선에 기여하고 싶습니다. 빠른 학습 능력과 팀워크를 통해 주어진 업무를 성실히 수행하며, 지속적인 자기개발을 지향합니다.\n",
      "\n",
      "학력  \n",
      "[대학교명], [전공] – [졸업 예정 또는 졸업"
     ]
    }
   ],
   "source": [
    "history = InMemoryChatMessageHistory()\n",
    "\n",
    "def get_history():\n",
    "    return history\n",
    "\n",
    "chain = prompt | llm\n",
    "\n",
    "with_message_history = RunnableWithMessageHistory(\n",
    "    chain,\n",
    "    get_history,\n",
    "    input_messages_key='query',\n",
    "    history_messages_key='chat_history'\n",
    ")\n",
    "\n",
    "ai_message = with_message_history.invoke({\n",
    "    'query': '''name: 박보검\\nexperience: 웹 개발 신입\\nskills: Python, HTML, CSS, LLM''' \n",
    "})"
   ]
  },
  {
   "cell_type": "code",
   "execution_count": 5,
   "id": "b08d4471",
   "metadata": {},
   "outputs": [
    {
     "data": {
      "text/plain": [
       "InMemoryChatMessageHistory(messages=[HumanMessage(content='name: 박보검\\nexperience: 웹 개발 신입\\nskills: Python, HTML, CSS, LLM', additional_kwargs={}, response_metadata={}), AIMessage(content='박보검  \\n연락처: [전화번호] | 이메일: [이메일 주소] | 주소: [주소]  \\n\\n목표  \\n열정과 성실함을 바탕으로 웹 개발 분야에서 성장하고자 하는 신입 개발자입니다. Python, HTML, CSS, 그리고 최신 인공지능 기술인 LLM(대형 언어 모델)에 대한 이해를 바탕으로 기업의 디지털 전환과 서비스 개선에 기여하고 싶습니다. 빠른 학습 능력과 팀워크를 통해 주어진 업무를 성실히 수행하며, 지속적인 자기개발을 지향합니다.\\n\\n학력  \\n[대학교명], [전공] – [졸업 예정 또는 졸업', additional_kwargs={}, response_metadata={'finish_reason': 'length', 'model_name': 'gpt-4.1-nano-2025-04-14', 'system_fingerprint': 'fp_eede8f0d45'}, id='run-e24e09ab-6130-48f0-954f-806b65dfc3d6-0')])"
      ]
     },
     "execution_count": 5,
     "metadata": {},
     "output_type": "execute_result"
    }
   ],
   "source": [
    "history"
   ]
  },
  {
   "cell_type": "code",
   "execution_count": 6,
   "id": "c280d4e9",
   "metadata": {},
   "outputs": [
    {
     "name": "stdout",
     "output_type": "stream",
     "text": [
      "당신의 이름은 박보검입니다."
     ]
    }
   ],
   "source": [
    "ai_message_02 = with_message_history.invoke({'query': '내 이름이 뭐야?'}) "
   ]
  },
  {
   "cell_type": "code",
   "execution_count": 7,
   "id": "104b5281",
   "metadata": {},
   "outputs": [
    {
     "data": {
      "text/plain": [
       "InMemoryChatMessageHistory(messages=[HumanMessage(content='name: 박보검\\nexperience: 웹 개발 신입\\nskills: Python, HTML, CSS, LLM', additional_kwargs={}, response_metadata={}), AIMessage(content='박보검  \\n연락처: [전화번호] | 이메일: [이메일 주소] | 주소: [주소]  \\n\\n목표  \\n열정과 성실함을 바탕으로 웹 개발 분야에서 성장하고자 하는 신입 개발자입니다. Python, HTML, CSS, 그리고 최신 인공지능 기술인 LLM(대형 언어 모델)에 대한 이해를 바탕으로 기업의 디지털 전환과 서비스 개선에 기여하고 싶습니다. 빠른 학습 능력과 팀워크를 통해 주어진 업무를 성실히 수행하며, 지속적인 자기개발을 지향합니다.\\n\\n학력  \\n[대학교명], [전공] – [졸업 예정 또는 졸업', additional_kwargs={}, response_metadata={'finish_reason': 'length', 'model_name': 'gpt-4.1-nano-2025-04-14', 'system_fingerprint': 'fp_eede8f0d45'}, id='run-e24e09ab-6130-48f0-954f-806b65dfc3d6-0'), HumanMessage(content='내 이름이 뭐야?', additional_kwargs={}, response_metadata={}), AIMessage(content='당신의 이름은 박보검입니다.', additional_kwargs={}, response_metadata={'finish_reason': 'stop', 'model_name': 'gpt-4.1-nano-2025-04-14', 'system_fingerprint': 'fp_eede8f0d45'}, id='run-bbdab1de-3e5b-47f6-8cc2-2a20fd4a7898-0')])"
      ]
     },
     "execution_count": 7,
     "metadata": {},
     "output_type": "execute_result"
    }
   ],
   "source": [
    "history"
   ]
  }
 ],
 "metadata": {
  "kernelspec": {
   "display_name": "project",
   "language": "python",
   "name": "python3"
  },
  "language_info": {
   "codemirror_mode": {
    "name": "ipython",
    "version": 3
   },
   "file_extension": ".py",
   "mimetype": "text/x-python",
   "name": "python",
   "nbconvert_exporter": "python",
   "pygments_lexer": "ipython3",
   "version": "3.10.12"
  }
 },
 "nbformat": 4,
 "nbformat_minor": 5
}
