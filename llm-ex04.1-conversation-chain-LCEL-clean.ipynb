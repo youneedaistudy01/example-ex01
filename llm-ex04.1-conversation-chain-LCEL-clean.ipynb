{
 "cells": [
  {
   "cell_type": "markdown",
   "id": "6c02435e",
   "metadata": {},
   "source": [
    "# [문제]\n",
    "- ChatPromptTemplate() : 역할 부여\n",
    "- InMemoryChatMessageHistory()\n",
    "- RunnableWithMessageHistory()\n",
    "- chain 구성"
   ]
  },
  {
   "cell_type": "markdown",
   "id": "686e1760",
   "metadata": {},
   "source": [
    "## [문제] PromptTemplate 내 변수 설정: Chain\n",
    "\n",
    "template = '''\n",
    "당신은 이력서 작성 컨설턴트입니다.\n",
    "아래 정보를 바탕으로 지원자 입장에서 2000자 이내로 이력서를 작성합니다.\n",
    "문장은 자연스럽고 매끄럽게 작성합니다.\n",
    "\n",
    "이름: {name}\n",
    "경력: {experience}\n",
    "기술: {skills}\n",
    "'''\n"
   ]
  },
  {
   "cell_type": "code",
   "execution_count": 1,
   "id": "e002d1c7",
   "metadata": {},
   "outputs": [
    {
     "name": "stdout",
     "output_type": "stream",
     "text": [
      "박보검  \n",
      "[연락처: 전화번호 / 이메일 주소]  \n",
      "[주소 (선택 사항)]  \n",
      "\n",
      "---\n",
      "\n",
      "**개인 소개**  \n",
      "안녕하세요, 웹 개발에 대한 열정과 배우고자 하는 의지가 강한 신입 개발자 박보검입니다. Python, HTML, CSS 등 기본적인 프로그래밍 언어와 웹 개발 기술을 습득하며, 사용자 중심의 인터페이스와 효율적인 서버 사이드 로직 구현에 관심을 가지고 있습니다. 최신 AI 트렌드에 발맞추어 LLM(대형 언어 모델) 활용 능력도 키우고 있어, 앞으로 다양한 프로젝트와 도전에 적극적으로 임할 준비가 되어 있습니다.\n",
      "\n",
      "---\n",
      "\n",
      "**학력"
     ]
    }
   ],
   "source": [
    "from langchain_openai import ChatOpenAI\n",
    "from langchain.callbacks.streaming_stdout import StreamingStdOutCallbackHandler\n",
    "from langchain_core.prompts import ChatPromptTemplate\n",
    "from dotenv import load_dotenv\n",
    "\n",
    "\n",
    "load_dotenv()\n",
    "\n",
    "llm = ChatOpenAI(\n",
    "    model='gpt-4.1-nano',\n",
    "    streaming=True,\n",
    "    callbacks=[StreamingStdOutCallbackHandler()],\n",
    "    max_completion_tokens=150,\n",
    ")\n",
    "\n",
    "messages = [\n",
    "    ('system', '''당신은 이력서 작성 컨설턴트입니다.\n",
    "아래 정보를 바탕으로 지원자 입장에서 2000자 이내로 이력서를 작성합니다.\n",
    "문장은 자연스럽고 매끄럽게 작성합니다.'''),\n",
    "\t('user', '이름: {name}\\n경력: {experience}\\n기술: {skills}')\n",
    "]\n",
    "\n",
    "prompt = ChatPromptTemplate.from_messages(messages=messages)\n",
    "\n",
    "chain = prompt | llm\n",
    "\n",
    "ai_message = chain.invoke({\n",
    "    'name': '박보검',\n",
    "    'experience': '웹 개발 신입',\n",
    "    'skills': 'Python, HTML, CSS, LLM'\n",
    "})"
   ]
  }
 ],
 "metadata": {
  "kernelspec": {
   "display_name": "project",
   "language": "python",
   "name": "python3"
  },
  "language_info": {
   "codemirror_mode": {
    "name": "ipython",
    "version": 3
   },
   "file_extension": ".py",
   "mimetype": "text/x-python",
   "name": "python",
   "nbconvert_exporter": "python",
   "pygments_lexer": "ipython3",
   "version": "3.10.12"
  }
 },
 "nbformat": 4,
 "nbformat_minor": 5
}
