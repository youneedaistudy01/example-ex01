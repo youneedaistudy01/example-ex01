{
 "cells": [
  {
   "cell_type": "markdown",
   "id": "6c02435e",
   "metadata": {},
   "source": [
    "# [문제]\n",
    "- 대화를 지속할 수 있도록 코드 구현\n",
    "- 대화는 대문자 S를 입력하면 종료"
   ]
  },
  {
   "cell_type": "code",
   "execution_count": 1,
   "id": "e002d1c7",
   "metadata": {},
   "outputs": [],
   "source": [
    "from langchain_core.runnables.history import RunnableWithMessageHistory\n",
    "from langchain_core.prompts import ChatPromptTemplate\n",
    "from langchain_core.chat_history import InMemoryChatMessageHistory\n",
    "from langchain_openai import ChatOpenAI\n",
    "from langchain.callbacks.streaming_stdout import StreamingStdOutCallbackHandler\n",
    "from dotenv import load_dotenv\n",
    "\n",
    "\n",
    "load_dotenv()\n",
    "\n",
    "llm = ChatOpenAI(\n",
    "    model='gpt-4.1-nano',\n",
    "    streaming=True,\n",
    "    callbacks=[StreamingStdOutCallbackHandler()],\n",
    "    max_completion_tokens=150,\n",
    ")\n",
    "\n",
    "messages = [\n",
    "    ('system', '''당신은 이력서 작성 컨설턴트입니다.\n",
    "아래 정보를 바탕으로 지원자 입장에서 2000자 이내로 이력서를 작성합니다.\n",
    "문장은 자연스럽고 매끄럽게 작성합니다.'''),\n",
    "\t('placeholder', '{chat_history}'),\n",
    "\t('user', '{query}')\n",
    "]\n",
    "\n",
    "prompt = ChatPromptTemplate.from_messages(messages=messages)\n",
    "\n",
    "history = InMemoryChatMessageHistory()\n",
    "\n",
    "def get_history():\n",
    "    return history\n",
    "\n",
    "chain = prompt | llm\n",
    "\n",
    "with_message_history = RunnableWithMessageHistory(\n",
    "    chain,\n",
    "    get_history,\n",
    "    input_messages_key='query',\n",
    "    history_messages_key='chat_history'\n",
    ")\n"
   ]
  },
  {
   "cell_type": "code",
   "execution_count": 2,
   "id": "8f019e72",
   "metadata": {},
   "outputs": [
    {
     "data": {
      "text/plain": [
       "InMemoryChatMessageHistory(messages=[])"
      ]
     },
     "execution_count": 2,
     "metadata": {},
     "output_type": "execute_result"
    }
   ],
   "source": [
    "history"
   ]
  },
  {
   "cell_type": "code",
   "execution_count": 3,
   "id": "cfca6627",
   "metadata": {},
   "outputs": [
    {
     "name": "stdout",
     "output_type": "stream",
     "text": [
      "이력서 작성은 지원자의 경력과 역량을 명확하고 효과적으로 보여주는 중요한 과정입니다. 이를 위해 먼저 다음과 같은 단계를 거치는 것이 좋습니다:\n",
      "\n",
      "1. **목적과 목표 설정:** 어떤 포지션에 지원하는지, 그리고 해당 직무에 어떤 역량을 강조하고 싶은지 명확히 정하세요. 이를 바탕으로 이력서의 방향성을 잡을 수 있습니다.\n",
      "\n",
      "2. **개인 정보 정리:** 성명, 연락처(전화번호, 이메일), 주소 등을 포함하세요. 최신 정보를 기재하는 것이 중요합니다.\n",
      "\n",
      "3. **경력 및 학력 정리:** 가장 최근의 경력부터 역순으로 정리하고, 관련 학이력서 작성을 위해 알려주시면 좋은 핵심 정보들은 다음과 같습니다:\n",
      "\n",
      "1. **개인 정보:** 성명, 연락처(전화번호, 이메일), 주소(선택 사항)\n",
      "2. **목표 또는 직무 목표:** 지원하는 포지션 또는 희망하는 역할\n",
      "3. **학력 사항:** 학교명, 전공, 졸업 기간 또는 재학 기간\n",
      "4. **경력 사항:** 회사명, 직책, 재직 기간, 담당 업무 및 성과\n",
      "5. **기술 및 역량:** 컴퓨터 프로그램, 언어 능력, 자격증 등\n",
      "6. **수상 및 인증:** 관련 수상경력이나 자격증 정보\n",
      "아래는 지원자 박보검 님의 정보를 바탕으로 작성한 2000자 이력서 예시입니다. 자연스럽고 매끄럽게 기술하였으며, 신입 웹 개발자로서의 강점과 역량을 부각하였습니다.\n",
      "\n",
      "---\n",
      "\n",
      "**박보검 | Web Developer (신입)**  \n",
      "이메일: parkbogeum@example.com | 연락처: 010-1234-5678 | 주소: 서울특별시 강남구\n",
      "\n",
      "---\n",
      "\n",
      "### 목표  \n",
      "웹 개발 분야에서 열정과 끈기를 바탕으로 성장하고 싶은 신입 개발자입니다. Python, HTML, CSS, LLM 활용 역량을 바탕으로 사용자 친화적이며 효당신의 이름은 박보검입니다."
     ]
    }
   ],
   "source": [
    "\n",
    "while True:\n",
    "    query = input('이력서 작성 컨설턴트입니다. 질문하세요. [종료: S] >>> ')\n",
    "\n",
    "    if query.upper() == 'S':\n",
    "        break\n",
    "\n",
    "    with_message_history.invoke({\n",
    "        'query': query\n",
    "    })"
   ]
  },
  {
   "cell_type": "code",
   "execution_count": 4,
   "id": "6f7a7ec2",
   "metadata": {},
   "outputs": [
    {
     "data": {
      "text/plain": [
       "InMemoryChatMessageHistory(messages=[HumanMessage(content='이력서 작성하려면, 무엇부터 시작해야 하나요?', additional_kwargs={}, response_metadata={}), AIMessage(content='이력서 작성은 지원자의 경력과 역량을 명확하고 효과적으로 보여주는 중요한 과정입니다. 이를 위해 먼저 다음과 같은 단계를 거치는 것이 좋습니다:\\n\\n1. **목적과 목표 설정:** 어떤 포지션에 지원하는지, 그리고 해당 직무에 어떤 역량을 강조하고 싶은지 명확히 정하세요. 이를 바탕으로 이력서의 방향성을 잡을 수 있습니다.\\n\\n2. **개인 정보 정리:** 성명, 연락처(전화번호, 이메일), 주소 등을 포함하세요. 최신 정보를 기재하는 것이 중요합니다.\\n\\n3. **경력 및 학력 정리:** 가장 최근의 경력부터 역순으로 정리하고, 관련 학', additional_kwargs={}, response_metadata={'finish_reason': 'length', 'model_name': 'gpt-4.1-nano-2025-04-14', 'system_fingerprint': 'fp_17d1f82c3e'}, id='run-236dcef5-ad00-4b40-a1c8-de517d7f80df-0'), HumanMessage(content='제가 어떤 정보를 알려드리면 되나요?', additional_kwargs={}, response_metadata={}), AIMessage(content='이력서 작성을 위해 알려주시면 좋은 핵심 정보들은 다음과 같습니다:\\n\\n1. **개인 정보:** 성명, 연락처(전화번호, 이메일), 주소(선택 사항)\\n2. **목표 또는 직무 목표:** 지원하는 포지션 또는 희망하는 역할\\n3. **학력 사항:** 학교명, 전공, 졸업 기간 또는 재학 기간\\n4. **경력 사항:** 회사명, 직책, 재직 기간, 담당 업무 및 성과\\n5. **기술 및 역량:** 컴퓨터 프로그램, 언어 능력, 자격증 등\\n6. **수상 및 인증:** 관련 수상경력이나 자격증 정보\\n', additional_kwargs={}, response_metadata={'finish_reason': 'length', 'model_name': 'gpt-4.1-nano-2025-04-14', 'system_fingerprint': 'fp_eede8f0d45'}, id='run-d3934451-b920-4370-8f3a-70921fd73eb8-0'), HumanMessage(content='이름: 박보검, 지원 분야: 웹 개발 신입, 사용 언어: Python, HTML, CSS, LLM', additional_kwargs={}, response_metadata={}), AIMessage(content='아래는 지원자 박보검 님의 정보를 바탕으로 작성한 2000자 이력서 예시입니다. 자연스럽고 매끄럽게 기술하였으며, 신입 웹 개발자로서의 강점과 역량을 부각하였습니다.\\n\\n---\\n\\n**박보검 | Web Developer (신입)**  \\n이메일: parkbogeum@example.com | 연락처: 010-1234-5678 | 주소: 서울특별시 강남구\\n\\n---\\n\\n### 목표  \\n웹 개발 분야에서 열정과 끈기를 바탕으로 성장하고 싶은 신입 개발자입니다. Python, HTML, CSS, LLM 활용 역량을 바탕으로 사용자 친화적이며 효', additional_kwargs={}, response_metadata={'finish_reason': 'length', 'model_name': 'gpt-4.1-nano-2025-04-14', 'system_fingerprint': 'fp_eede8f0d45'}, id='run-5c317571-a7a1-40ea-924d-39a29ef67565-0'), HumanMessage(content='제 이름이 뭔가요?', additional_kwargs={}, response_metadata={}), AIMessage(content='당신의 이름은 박보검입니다.', additional_kwargs={}, response_metadata={'finish_reason': 'stop', 'model_name': 'gpt-4.1-nano-2025-04-14', 'system_fingerprint': 'fp_eede8f0d45'}, id='run-cb8f443b-af2f-497b-a5e8-bd0bf95fce39-0')])"
      ]
     },
     "execution_count": 4,
     "metadata": {},
     "output_type": "execute_result"
    }
   ],
   "source": [
    "history"
   ]
  },
  {
   "cell_type": "code",
   "execution_count": 9,
   "id": "6a40bb5c",
   "metadata": {},
   "outputs": [
    {
     "name": "stdout",
     "output_type": "stream",
     "text": [
      "이력서 작성하려면, 무엇부터 시작해야 하나요?\n",
      "**************************************************\n",
      "이력서 작성은 지원자의 경력과 역량을 명확하고 효과적으로 보여주는 중요한 과정입니다. 이를 위해 먼저 다음과 같은 단계를 거치는 것이 좋습니다:\n",
      "\n",
      "1. **목적과 목표 설정:** 어떤 포지션에 지원하는지, 그리고 해당 직무에 어떤 역량을 강조하고 싶은지 명확히 정하세요. 이를 바탕으로 이력서의 방향성을 잡을 수 있습니다.\n",
      "\n",
      "2. **개인 정보 정리:** 성명, 연락처(전화번호, 이메일), 주소 등을 포함하세요. 최신 정보를 기재하는 것이 중요합니다.\n",
      "\n",
      "3. **경력 및 학력 정리:** 가장 최근의 경력부터 역순으로 정리하고, 관련 학\n",
      "**************************************************\n",
      "제가 어떤 정보를 알려드리면 되나요?\n",
      "**************************************************\n",
      "이력서 작성을 위해 알려주시면 좋은 핵심 정보들은 다음과 같습니다:\n",
      "\n",
      "1. **개인 정보:** 성명, 연락처(전화번호, 이메일), 주소(선택 사항)\n",
      "2. **목표 또는 직무 목표:** 지원하는 포지션 또는 희망하는 역할\n",
      "3. **학력 사항:** 학교명, 전공, 졸업 기간 또는 재학 기간\n",
      "4. **경력 사항:** 회사명, 직책, 재직 기간, 담당 업무 및 성과\n",
      "5. **기술 및 역량:** 컴퓨터 프로그램, 언어 능력, 자격증 등\n",
      "6. **수상 및 인증:** 관련 수상경력이나 자격증 정보\n",
      "\n",
      "**************************************************\n",
      "이름: 박보검, 지원 분야: 웹 개발 신입, 사용 언어: Python, HTML, CSS, LLM\n",
      "**************************************************\n",
      "아래는 지원자 박보검 님의 정보를 바탕으로 작성한 2000자 이력서 예시입니다. 자연스럽고 매끄럽게 기술하였으며, 신입 웹 개발자로서의 강점과 역량을 부각하였습니다.\n",
      "\n",
      "---\n",
      "\n",
      "**박보검 | Web Developer (신입)**  \n",
      "이메일: parkbogeum@example.com | 연락처: 010-1234-5678 | 주소: 서울특별시 강남구\n",
      "\n",
      "---\n",
      "\n",
      "### 목표  \n",
      "웹 개발 분야에서 열정과 끈기를 바탕으로 성장하고 싶은 신입 개발자입니다. Python, HTML, CSS, LLM 활용 역량을 바탕으로 사용자 친화적이며 효\n",
      "**************************************************\n",
      "제 이름이 뭔가요?\n",
      "**************************************************\n",
      "당신의 이름은 박보검입니다.\n",
      "**************************************************\n"
     ]
    }
   ],
   "source": [
    "for info in history.messages:\n",
    "    print(info.content)\n",
    "    print('*' * 50)"
   ]
  }
 ],
 "metadata": {
  "kernelspec": {
   "display_name": "project",
   "language": "python",
   "name": "python3"
  },
  "language_info": {
   "codemirror_mode": {
    "name": "ipython",
    "version": 3
   },
   "file_extension": ".py",
   "mimetype": "text/x-python",
   "name": "python",
   "nbconvert_exporter": "python",
   "pygments_lexer": "ipython3",
   "version": "3.10.12"
  }
 },
 "nbformat": 4,
 "nbformat_minor": 5
}
