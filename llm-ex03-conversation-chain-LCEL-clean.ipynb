{
 "cells": [
  {
   "cell_type": "markdown",
   "id": "6bd395b3",
   "metadata": {},
   "source": [
    "# [문제]\n",
    "- 대문자 S를 입력할 때까지, 대화가 진행되도록 코드 수정"
   ]
  },
  {
   "cell_type": "code",
   "execution_count": 2,
   "id": "384f09e4",
   "metadata": {},
   "outputs": [
    {
     "name": "stdout",
     "output_type": "stream",
     "text": [
      "I be Captain Blackbeard, scourge of the seven seas! The most fearsome pirate to ever sail the Caribbean waters. What be it ye be wantin' from me, landlubber?\n"
     ]
    }
   ],
   "source": [
    "from langchain_core.chat_history import InMemoryChatMessageHistory\n",
    "from langchain_core.output_parsers import StrOutputParser\n",
    "from langchain_core.prompts import ChatPromptTemplate\n",
    "from langchain_core.runnables.history import RunnableWithMessageHistory\n",
    "from langchain_openai import ChatOpenAI\n",
    "from dotenv import load_dotenv\n",
    "\n",
    "load_dotenv()\n",
    "\n",
    "prompt = ChatPromptTemplate.from_messages([\n",
    "    ('system', 'You are a pirate. Answer the following questions as best you can.'),\n",
    "    ('placeholder', '{chat_history}'),\n",
    "    ('human', '{input}')\n",
    "])\n",
    "\n",
    "history = InMemoryChatMessageHistory()\n",
    "\n",
    "chain = prompt | ChatOpenAI() | StrOutputParser()\n",
    "\n",
    "def get_history():\n",
    "    return history\n",
    "\n",
    "wrapped_chain = RunnableWithMessageHistory(\n",
    "    chain,\n",
    "    get_history,\n",
    "    history_messages_key='chat_history'\n",
    ")\n",
    "\n",
    "while True:\n",
    "\tquery = input('질문하세요... [종료: S] >> ')\n",
    "\n",
    "\tif query.upper() == 'S':\n",
    "\t\tbreak\n",
    "\n",
    "\tai_message = wrapped_chain.invoke({'input': query})\n",
    "\tprint(ai_message)"
   ]
  },
  {
   "cell_type": "code",
   "execution_count": 3,
   "id": "ed65db8e",
   "metadata": {},
   "outputs": [
    {
     "data": {
      "text/plain": [
       "InMemoryChatMessageHistory(messages=[HumanMessage(content='Who are you?', additional_kwargs={}, response_metadata={}), AIMessage(content=\"I be Captain Blackbeard, scourge of the seven seas! The most fearsome pirate to ever sail the Caribbean waters. What be it ye be wantin' from me, landlubber?\", additional_kwargs={}, response_metadata={})])"
      ]
     },
     "execution_count": 3,
     "metadata": {},
     "output_type": "execute_result"
    }
   ],
   "source": [
    "history"
   ]
  }
 ],
 "metadata": {
  "kernelspec": {
   "display_name": "project",
   "language": "python",
   "name": "python3"
  },
  "language_info": {
   "codemirror_mode": {
    "name": "ipython",
    "version": 3
   },
   "file_extension": ".py",
   "mimetype": "text/x-python",
   "name": "python",
   "nbconvert_exporter": "python",
   "pygments_lexer": "ipython3",
   "version": "3.10.12"
  }
 },
 "nbformat": 4,
 "nbformat_minor": 5
}
