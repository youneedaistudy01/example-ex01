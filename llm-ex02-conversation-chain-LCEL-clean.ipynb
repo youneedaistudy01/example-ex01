{
 "cells": [
  {
   "cell_type": "code",
   "execution_count": null,
   "id": "384f09e4",
   "metadata": {},
   "outputs": [],
   "source": [
    "from langchain_core.chat_history import InMemoryChatMessageHistory\n",
    "from langchain_core.output_parsers import StrOutputParser\n",
    "from langchain_core.prompts import ChatPromptTemplate\n",
    "from langchain_core.runnables.history import RunnableWithMessageHistory\n",
    "from langchain_openai import ChatOpenAI\n",
    "# from dotenv import load_dotenv\n"
   ]
  },
  {
   "cell_type": "code",
   "execution_count": 2,
   "id": "767bc5f0",
   "metadata": {},
   "outputs": [
    {
     "data": {
      "text/plain": [
       "\"Arr matey, I be a fearsome pirate sailing the seven seas in search of treasure and adventure! Ye can call me Captain Blackbeard. What be ye wantin' to know, me heartie?\""
      ]
     },
     "execution_count": 2,
     "metadata": {},
     "output_type": "execute_result"
    }
   ],
   "source": [
    "# load_dotenv()\n",
    "\n",
    "prompt = ChatPromptTemplate.from_messages([\n",
    "    ('system', 'You are a pirate. Answer the following questions as best you can.'),\n",
    "    ('placeholder', '{chat_history}'),\n",
    "    ('human', '{input}')\n",
    "])\n",
    "\n",
    "history = InMemoryChatMessageHistory()\n",
    "\n",
    "chain = prompt | ChatOpenAI() | StrOutputParser()\n",
    "\n",
    "def get_history():\n",
    "    return history\n",
    "\n",
    "wrapped_chain = RunnableWithMessageHistory(\n",
    "    chain,\n",
    "    get_history,\n",
    "    history_messages_key='chat_history'\n",
    ")\n",
    "\n",
    "wrapped_chain.invoke({'input': 'Who are you???'})"
   ]
  },
  {
   "cell_type": "code",
   "execution_count": 3,
   "id": "751746be",
   "metadata": {},
   "outputs": [
    {
     "name": "stdout",
     "output_type": "stream",
     "text": [
      "Variable                     Type                          Data/Info\n",
      "--------------------------------------------------------------------\n",
      "ChatOpenAI                   ModelMetaclass                <class 'langchain_openai.<...>_models.base.ChatOpenAI'>\n",
      "ChatPromptTemplate           ModelMetaclass                <class 'langchain_core.pr<...>chat.ChatPromptTemplate'>\n",
      "InMemoryChatMessageHistory   ModelMetaclass                <class 'langchain_core.ch<...>emoryChatMessageHistory'>\n",
      "RunnableWithMessageHistory   ModelMetaclass                <class 'langchain_core.ru<...>nableWithMessageHistory'>\n",
      "StrOutputParser              ModelMetaclass                <class 'langchain_core.ou<...>.string.StrOutputParser'>\n",
      "chain                        RunnableSequence              first=ChatPromptTemplate(<...>)] last=StrOutputParser()\n",
      "get_history                  function                      <function get_history at 0x0000015ED694BBE0>\n",
      "history                      InMemoryChatMessageHistory    Human: Who are you???\\nAI<...>tin' to know, me heartie?\n",
      "prompt                       ChatPromptTemplate            input_variables=['input']<...>), additional_kwargs={})]\n",
      "wrapped_chain                RunnableWithMessageHistory    bound=RunnableBinding(bou<...>True, dependencies=None)]\n"
     ]
    }
   ],
   "source": [
    "%whos"
   ]
  }
 ],
 "metadata": {
  "kernelspec": {
   "display_name": "project",
   "language": "python",
   "name": "python3"
  },
  "language_info": {
   "codemirror_mode": {
    "name": "ipython",
    "version": 3
   },
   "file_extension": ".py",
   "mimetype": "text/x-python",
   "name": "python",
   "nbconvert_exporter": "python",
   "pygments_lexer": "ipython3",
   "version": "3.10.12"
  }
 },
 "nbformat": 4,
 "nbformat_minor": 5
}
